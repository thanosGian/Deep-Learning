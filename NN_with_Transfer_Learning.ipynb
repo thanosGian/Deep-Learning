{
  "nbformat": 4,
  "nbformat_minor": 0,
  "metadata": {
    "colab": {
      "name": "NN_with_Transfer_Learning.ipynb",
      "provenance": [],
      "toc_visible": true
    },
    "kernelspec": {
      "name": "python3",
      "display_name": "Python 3"
    },
    "accelerator": "GPU"
  },
  "cells": [
    {
      "cell_type": "markdown",
      "metadata": {
        "id": "A7TLT9ekOrOB"
      },
      "source": [
        "**Imports**"
      ]
    },
    {
      "cell_type": "code",
      "metadata": {
        "id": "2c4PpEO7lOx5"
      },
      "source": [
        "from __future__ import absolute_import, division, print_function, unicode_literals\n",
        "import os\n",
        "import numpy as np\n",
        "import matplotlib.pyplot as plt\n",
        "import tensorflow as tf\n",
        "keras = tf.keras\n",
        "from keras.applications import VGG19\n",
        "from keras.applications.vgg19 import preprocess_input\n",
        "from keras.utils import np_utils\n",
        "from keras.preprocessing.image import img_to_array, array_to_img\n",
        "from tensorflow.keras.layers import Dense, Conv2D, Flatten, Dropout, MaxPooling2D, BatchNormalization, LeakyReLU"
      ],
      "execution_count": 1,
      "outputs": []
    },
    {
      "cell_type": "markdown",
      "metadata": {
        "id": "9mI_pt9Y-JPi"
      },
      "source": [
        "### Plotting results"
      ]
    },
    {
      "cell_type": "code",
      "metadata": {
        "id": "wtG--vW1-JZv"
      },
      "source": [
        "def plot_history(hs, epochs, metric):\n",
        "    print()\n",
        "    plt.style.use('dark_background')\n",
        "    plt.rcParams['figure.figsize'] = [15, 8]\n",
        "    plt.rcParams['font.size'] = 16\n",
        "    plt.clf()\n",
        "    %tensorflow_version 1.x\n",
        "    for label in hs:\n",
        "        plt.plot(hs[label].history[metric], label='{0:s} train {1:s}'.format(label, metric))\n",
        "        plt.plot(hs[label].history['val_{0:s}'.format(metric)], label='{0:s} validation {1:s}'.format(label, metric))\n",
        "    x_ticks = np.arange(0, epochs + 1, epochs / 10)\n",
        "    x_ticks [0] += 1\n",
        "    plt.xticks(x_ticks)\n",
        "    plt.ylim((0, 1))\n",
        "    plt.xlabel('Epochs')\n",
        "    plt.ylabel('Loss' if metric=='loss' else 'Accuracy')\n",
        "    plt.legend()\n",
        "    plt.show()"
      ],
      "execution_count": 2,
      "outputs": []
    },
    {
      "cell_type": "markdown",
      "metadata": {
        "id": "ubaZxzPdOnUI"
      },
      "source": [
        "**Load and Split data**"
      ]
    },
    {
      "cell_type": "code",
      "metadata": {
        "id": "8f3LlEXVlUAS",
        "colab": {
          "base_uri": "https://localhost:8080/"
        },
        "outputId": "dded59d7-3b3e-4ea6-9e58-b46a5b3e32e3"
      },
      "source": [
        "val_number=6000 #10% of the training dataset\n",
        "classes = 10\n",
        "\n",
        "fashion_mnist = keras.datasets.fashion_mnist\n",
        "(train_images, train_labels), (test_images, test_labels) = fashion_mnist.load_data()\n",
        "\n",
        "val_images = train_images[:val_number]\n",
        "val_labels = train_labels[:val_number]\n",
        "train_images = train_images[val_number:]\n",
        "train_labels = train_labels[val_number:]\n",
        "\n",
        "print(train_images.shape)\n",
        "print(val_images.shape)\n",
        "print(test_images.shape)\n",
        "\n",
        "train_images = np.repeat(train_images[..., np.newaxis],3,-1)\n",
        "test_images = np.repeat(test_images[..., np.newaxis],3,-1)\n",
        "val_images = np.repeat(val_images[..., np.newaxis],3,-1)\n",
        "\n",
        "print(train_images.shape)\n",
        "print(val_images.shape)\n",
        "print(test_images.shape)"
      ],
      "execution_count": 3,
      "outputs": [
        {
          "output_type": "stream",
          "text": [
            "Downloading data from https://storage.googleapis.com/tensorflow/tf-keras-datasets/train-labels-idx1-ubyte.gz\n",
            "32768/29515 [=================================] - 0s 0us/step\n",
            "Downloading data from https://storage.googleapis.com/tensorflow/tf-keras-datasets/train-images-idx3-ubyte.gz\n",
            "26427392/26421880 [==============================] - 0s 0us/step\n",
            "Downloading data from https://storage.googleapis.com/tensorflow/tf-keras-datasets/t10k-labels-idx1-ubyte.gz\n",
            "8192/5148 [===============================================] - 0s 0us/step\n",
            "Downloading data from https://storage.googleapis.com/tensorflow/tf-keras-datasets/t10k-images-idx3-ubyte.gz\n",
            "4423680/4422102 [==============================] - 0s 0us/step\n",
            "(54000, 28, 28)\n",
            "(6000, 28, 28)\n",
            "(10000, 28, 28)\n",
            "(54000, 28, 28, 3)\n",
            "(6000, 28, 28, 3)\n",
            "(10000, 28, 28, 3)\n"
          ],
          "name": "stdout"
        }
      ]
    },
    {
      "cell_type": "markdown",
      "metadata": {
        "id": "4lhwixl4OxZs"
      },
      "source": [
        "**Data Processing for VGG19**"
      ]
    },
    {
      "cell_type": "code",
      "metadata": {
        "id": "0zuCWhTUMWJ_",
        "colab": {
          "base_uri": "https://localhost:8080/"
        },
        "outputId": "9a99c20a-e098-458f-b528-a9c0ae0d75c0"
      },
      "source": [
        "train_images = np.asarray([img_to_array(array_to_img(im, scale=False).resize((48,48))) for im in train_images])\n",
        "test_images = np.asarray([img_to_array(array_to_img(im, scale=False).resize((48,48))) for im in test_images])\n",
        "val_images = np.asarray([img_to_array(array_to_img(im, scale=False).resize((48,48))) for im in val_images])\n",
        "\n",
        "val_images= val_images.astype('float32')\n",
        "test_images = test_images.astype('float32')\n",
        "train_images = train_images.astype('float32')\n",
        "\n",
        "train_images = train_images / 255.0\n",
        "test_images = test_images / 255.0\n",
        "val_images = val_images /255.0\n",
        "\n",
        "val_labels = np_utils.to_categorical(val_labels, classes)\n",
        "test_labels = np_utils.to_categorical(test_labels, classes)\n",
        "train_labels = np_utils.to_categorical(train_labels, classes)\n",
        "\n",
        "train_images = preprocess_input(train_images)\n",
        "test_images = preprocess_input(test_images)\n",
        "val_images = preprocess_input(val_images)\n",
        "\n",
        "train_images.shape, test_images.shape, val_images.shape"
      ],
      "execution_count": 4,
      "outputs": [
        {
          "output_type": "execute_result",
          "data": {
            "text/plain": [
              "((54000, 48, 48, 3), (10000, 48, 48, 3), (6000, 48, 48, 3))"
            ]
          },
          "metadata": {
            "tags": []
          },
          "execution_count": 4
        }
      ]
    },
    {
      "cell_type": "markdown",
      "metadata": {
        "id": "53I5VdR6PuZk"
      },
      "source": [
        "**VGG19**"
      ]
    },
    {
      "cell_type": "code",
      "metadata": {
        "id": "pEX7Z-tol_-b",
        "colab": {
          "base_uri": "https://localhost:8080/"
        },
        "outputId": "955f7fc5-59a6-4ecb-8fc7-2db269f6c10c"
      },
      "source": [
        "base_model = VGG19(input_shape=(48,48,3), include_top=False, weights='imagenet')\n",
        "base_model.summary()"
      ],
      "execution_count": 5,
      "outputs": [
        {
          "output_type": "stream",
          "text": [
            "Downloading data from https://storage.googleapis.com/tensorflow/keras-applications/vgg19/vgg19_weights_tf_dim_ordering_tf_kernels_notop.h5\n",
            "80142336/80134624 [==============================] - 1s 0us/step\n",
            "Model: \"vgg19\"\n",
            "_________________________________________________________________\n",
            "Layer (type)                 Output Shape              Param #   \n",
            "=================================================================\n",
            "input_1 (InputLayer)         [(None, 48, 48, 3)]       0         \n",
            "_________________________________________________________________\n",
            "block1_conv1 (Conv2D)        (None, 48, 48, 64)        1792      \n",
            "_________________________________________________________________\n",
            "block1_conv2 (Conv2D)        (None, 48, 48, 64)        36928     \n",
            "_________________________________________________________________\n",
            "block1_pool (MaxPooling2D)   (None, 24, 24, 64)        0         \n",
            "_________________________________________________________________\n",
            "block2_conv1 (Conv2D)        (None, 24, 24, 128)       73856     \n",
            "_________________________________________________________________\n",
            "block2_conv2 (Conv2D)        (None, 24, 24, 128)       147584    \n",
            "_________________________________________________________________\n",
            "block2_pool (MaxPooling2D)   (None, 12, 12, 128)       0         \n",
            "_________________________________________________________________\n",
            "block3_conv1 (Conv2D)        (None, 12, 12, 256)       295168    \n",
            "_________________________________________________________________\n",
            "block3_conv2 (Conv2D)        (None, 12, 12, 256)       590080    \n",
            "_________________________________________________________________\n",
            "block3_conv3 (Conv2D)        (None, 12, 12, 256)       590080    \n",
            "_________________________________________________________________\n",
            "block3_conv4 (Conv2D)        (None, 12, 12, 256)       590080    \n",
            "_________________________________________________________________\n",
            "block3_pool (MaxPooling2D)   (None, 6, 6, 256)         0         \n",
            "_________________________________________________________________\n",
            "block4_conv1 (Conv2D)        (None, 6, 6, 512)         1180160   \n",
            "_________________________________________________________________\n",
            "block4_conv2 (Conv2D)        (None, 6, 6, 512)         2359808   \n",
            "_________________________________________________________________\n",
            "block4_conv3 (Conv2D)        (None, 6, 6, 512)         2359808   \n",
            "_________________________________________________________________\n",
            "block4_conv4 (Conv2D)        (None, 6, 6, 512)         2359808   \n",
            "_________________________________________________________________\n",
            "block4_pool (MaxPooling2D)   (None, 3, 3, 512)         0         \n",
            "_________________________________________________________________\n",
            "block5_conv1 (Conv2D)        (None, 3, 3, 512)         2359808   \n",
            "_________________________________________________________________\n",
            "block5_conv2 (Conv2D)        (None, 3, 3, 512)         2359808   \n",
            "_________________________________________________________________\n",
            "block5_conv3 (Conv2D)        (None, 3, 3, 512)         2359808   \n",
            "_________________________________________________________________\n",
            "block5_conv4 (Conv2D)        (None, 3, 3, 512)         2359808   \n",
            "_________________________________________________________________\n",
            "block5_pool (MaxPooling2D)   (None, 1, 1, 512)         0         \n",
            "=================================================================\n",
            "Total params: 20,024,384\n",
            "Trainable params: 20,024,384\n",
            "Non-trainable params: 0\n",
            "_________________________________________________________________\n"
          ],
          "name": "stdout"
        }
      ]
    },
    {
      "cell_type": "markdown",
      "metadata": {
        "id": "9hwqXBfFPiqE"
      },
      "source": [
        "**Extracting Features**"
      ]
    },
    {
      "cell_type": "code",
      "metadata": {
        "id": "zrBXz0xoPhXI",
        "colab": {
          "base_uri": "https://localhost:8080/"
        },
        "outputId": "8f48677f-8aa4-4d95-eb08-361c7bcac178"
      },
      "source": [
        "train_features = base_model.predict(np.array(train_images), batch_size=512, verbose=1)\n",
        "test_features = base_model.predict(np.array(test_images), batch_size=512, verbose=1)\n",
        "val_features = base_model.predict(np.array(val_images), batch_size=512, verbose=1)"
      ],
      "execution_count": 6,
      "outputs": [
        {
          "output_type": "stream",
          "text": [
            "106/106 [==============================] - 21s 125ms/step\n",
            "20/20 [==============================] - 3s 164ms/step\n",
            "12/12 [==============================] - 2s 221ms/step\n"
          ],
          "name": "stdout"
        }
      ]
    },
    {
      "cell_type": "markdown",
      "metadata": {
        "id": "1L4XYb3RPPBO"
      },
      "source": [
        "**Saving the features for later use**"
      ]
    },
    {
      "cell_type": "code",
      "metadata": {
        "id": "UI2JtJ9cPND_"
      },
      "source": [
        "np.savez(\"train_features\", train_features, train_labels)\n",
        "np.savez(\"test_features\", test_features, test_labels)\n",
        "np.savez(\"val_features\", val_features, val_labels)"
      ],
      "execution_count": 7,
      "outputs": []
    },
    {
      "cell_type": "markdown",
      "metadata": {
        "id": "8dRENP9iP_en"
      },
      "source": [
        "**Loading features**"
      ]
    },
    {
      "cell_type": "code",
      "metadata": {
        "id": "XjSpBU6kP_FQ",
        "colab": {
          "base_uri": "https://localhost:8080/"
        },
        "outputId": "e46fb8bf-dbb3-42bd-e5e1-0b6a8676c884"
      },
      "source": [
        "npzfile_test = np.load(\"test_features.npz\")\n",
        "npzfile_train = np.load(\"train_features.npz\")\n",
        "npzfile_val = np.load(\"val_features.npz\")\n",
        "print(npzfile_val.files)\n",
        "reloaded_test_features=npzfile_test['arr_0']\n",
        "reloaded_test_labels=npzfile_test['arr_1']\n",
        "reloaded_train_features=npzfile_train['arr_0']\n",
        "reloaded_train_labels=npzfile_train['arr_1']\n",
        "reloaded_val_features=npzfile_val['arr_0']\n",
        "reloaded_val_labels=npzfile_val['arr_1']\n",
        "reloaded_test_features.shape\n",
        "np.array_equal(reloaded_test_features,test_features),np.array_equal(reloaded_train_features,train_features),np.array_equal(reloaded_val_features,val_features)"
      ],
      "execution_count": 8,
      "outputs": [
        {
          "output_type": "stream",
          "text": [
            "['arr_0', 'arr_1']\n"
          ],
          "name": "stdout"
        },
        {
          "output_type": "execute_result",
          "data": {
            "text/plain": [
              "(True, True, True)"
            ]
          },
          "metadata": {
            "tags": []
          },
          "execution_count": 8
        }
      ]
    },
    {
      "cell_type": "code",
      "metadata": {
        "id": "i6KwUbAvQH3t",
        "colab": {
          "base_uri": "https://localhost:8080/"
        },
        "outputId": "8eea55da-a022-46fb-ad47-d685214dc530"
      },
      "source": [
        "print(train_features.shape)\n",
        "train_features_flat = np.reshape(reloaded_train_features, (54000, 1*1*512))\n",
        "test_features_flat = np.reshape(reloaded_test_features, (10000, 1*1*512))\n",
        "val_features_flat = np.reshape(reloaded_val_features, (6000, 1*1*512))"
      ],
      "execution_count": 9,
      "outputs": [
        {
          "output_type": "stream",
          "text": [
            "(54000, 1, 1, 512)\n"
          ],
          "name": "stdout"
        }
      ]
    },
    {
      "cell_type": "code",
      "metadata": {
        "id": "8pfW6ORkQ31Q"
      },
      "source": [
        "'''model = keras.Sequential()\n",
        "model.add(keras.layers.Dense(512, activation='relu', input_dim=(1*1*512)))\n",
        "model.add(BatchNormalization())\n",
        "model.add(Dropout(0.5))\n",
        "model.add(Dense(128, activation='relu'))\n",
        "model.add(BatchNormalization())\n",
        "model.add(Dropout(0.5))\n",
        "model.add(Dense(10, activation='softmax'))'''\n",
        "\n",
        "model = keras.Sequential()\n",
        "model.add(keras.layers.Dense(512, activation='relu', input_dim=(1*1*512)))\n",
        "model.add(keras.layers.LeakyReLU(alpha=0.1))\n",
        "model.add(keras.layers.Dense(10,activation='softmax'))"
      ],
      "execution_count": 10,
      "outputs": []
    },
    {
      "cell_type": "markdown",
      "metadata": {
        "id": "ofR-QGkGM3dI"
      },
      "source": [
        "**Compile and Train the model**"
      ]
    },
    {
      "cell_type": "code",
      "metadata": {
        "id": "KnjbLXIpROu4",
        "colab": {
          "base_uri": "https://localhost:8080/"
        },
        "outputId": "5a775b31-e668-43f3-9f03-a4ef8abf6144"
      },
      "source": [
        "model.compile(optimizer='adam',\n",
        "              loss='categorical_crossentropy',\n",
        "              metrics=['accuracy'])\n",
        "\n",
        "history = model.fit(train_features_flat, train_labels, epochs=20,validation_data=(val_features_flat, val_labels))"
      ],
      "execution_count": 11,
      "outputs": [
        {
          "output_type": "stream",
          "text": [
            "Epoch 1/20\n",
            "1688/1688 [==============================] - 5s 2ms/step - loss: 2.0371 - accuracy: 0.3201 - val_loss: 1.2157 - val_accuracy: 0.5927\n",
            "Epoch 2/20\n",
            "1688/1688 [==============================] - 4s 2ms/step - loss: 1.2629 - accuracy: 0.5383 - val_loss: 1.0643 - val_accuracy: 0.6268\n",
            "Epoch 3/20\n",
            "1688/1688 [==============================] - 4s 2ms/step - loss: 1.1187 - accuracy: 0.5962 - val_loss: 1.0312 - val_accuracy: 0.6180\n",
            "Epoch 4/20\n",
            "1688/1688 [==============================] - 4s 2ms/step - loss: 1.0336 - accuracy: 0.6259 - val_loss: 0.9383 - val_accuracy: 0.6507\n",
            "Epoch 5/20\n",
            "1688/1688 [==============================] - 4s 2ms/step - loss: 0.9927 - accuracy: 0.6377 - val_loss: 1.0588 - val_accuracy: 0.6005\n",
            "Epoch 6/20\n",
            "1688/1688 [==============================] - 4s 2ms/step - loss: 0.9644 - accuracy: 0.6497 - val_loss: 0.8737 - val_accuracy: 0.6790\n",
            "Epoch 7/20\n",
            "1688/1688 [==============================] - 4s 2ms/step - loss: 0.9359 - accuracy: 0.6593 - val_loss: 0.8699 - val_accuracy: 0.6910\n",
            "Epoch 8/20\n",
            "1688/1688 [==============================] - 4s 2ms/step - loss: 0.9098 - accuracy: 0.6705 - val_loss: 0.8957 - val_accuracy: 0.6612\n",
            "Epoch 9/20\n",
            "1688/1688 [==============================] - 4s 2ms/step - loss: 0.9003 - accuracy: 0.6747 - val_loss: 0.8316 - val_accuracy: 0.7047\n",
            "Epoch 10/20\n",
            "1688/1688 [==============================] - 4s 2ms/step - loss: 0.8869 - accuracy: 0.6797 - val_loss: 0.8446 - val_accuracy: 0.6920\n",
            "Epoch 11/20\n",
            "1688/1688 [==============================] - 4s 2ms/step - loss: 0.8743 - accuracy: 0.6814 - val_loss: 0.7993 - val_accuracy: 0.7237\n",
            "Epoch 12/20\n",
            "1688/1688 [==============================] - 4s 2ms/step - loss: 0.8678 - accuracy: 0.6860 - val_loss: 0.8394 - val_accuracy: 0.7040\n",
            "Epoch 13/20\n",
            "1688/1688 [==============================] - 4s 2ms/step - loss: 0.8498 - accuracy: 0.6932 - val_loss: 0.8441 - val_accuracy: 0.6895\n",
            "Epoch 14/20\n",
            "1688/1688 [==============================] - 4s 2ms/step - loss: 0.8498 - accuracy: 0.6932 - val_loss: 0.8101 - val_accuracy: 0.6968\n",
            "Epoch 15/20\n",
            "1688/1688 [==============================] - 4s 2ms/step - loss: 0.8489 - accuracy: 0.6949 - val_loss: 0.7979 - val_accuracy: 0.7152\n",
            "Epoch 16/20\n",
            "1688/1688 [==============================] - 4s 2ms/step - loss: 0.8434 - accuracy: 0.6946 - val_loss: 0.7921 - val_accuracy: 0.7125\n",
            "Epoch 17/20\n",
            "1688/1688 [==============================] - 4s 2ms/step - loss: 0.8203 - accuracy: 0.7057 - val_loss: 0.7971 - val_accuracy: 0.7047\n",
            "Epoch 18/20\n",
            "1688/1688 [==============================] - 4s 2ms/step - loss: 0.8259 - accuracy: 0.6989 - val_loss: 0.7803 - val_accuracy: 0.7202\n",
            "Epoch 19/20\n",
            "1688/1688 [==============================] - 4s 2ms/step - loss: 0.8168 - accuracy: 0.7027 - val_loss: 0.7620 - val_accuracy: 0.7202\n",
            "Epoch 20/20\n",
            "1688/1688 [==============================] - 4s 2ms/step - loss: 0.8242 - accuracy: 0.6976 - val_loss: 0.7507 - val_accuracy: 0.7322\n"
          ],
          "name": "stdout"
        }
      ]
    },
    {
      "cell_type": "markdown",
      "metadata": {
        "id": "t08idnMPNQiv"
      },
      "source": [
        "**Save the model**(not needed here)"
      ]
    },
    {
      "cell_type": "code",
      "metadata": {
        "id": "XnBKdHy7pXyq",
        "colab": {
          "base_uri": "https://localhost:8080/"
        },
        "outputId": "0ffb33c6-4455-4fa9-ec77-e19f69ce77ef"
      },
      "source": [
        "evaluation = model.evaluate(test_features_flat,  test_labels, verbose=2)"
      ],
      "execution_count": 15,
      "outputs": [
        {
          "output_type": "stream",
          "text": [
            "313/313 - 0s - loss: 0.7915 - accuracy: 0.7080\n"
          ],
          "name": "stdout"
        }
      ]
    },
    {
      "cell_type": "code",
      "metadata": {
        "id": "LIneBMeM-ZA3",
        "colab": {
          "base_uri": "https://localhost:8080/",
          "height": 1000
        },
        "outputId": "445e73a9-2bad-4084-c72d-0350805089ba"
      },
      "source": [
        "print(\"Train Loss     : {0:.5f}\".format(history.history['loss'][-1]))\n",
        "print(\"Validation Loss: {0:.5f}\".format(history.history['val_loss'][-1]))\n",
        "print(\"Test Loss      : {0:.5f}\".format(evaluation[0]))\n",
        "print(\"---\")\n",
        "print(\"Train Accuracy     : {0:.5f}\".format(history.history['accuracy'][-1]))\n",
        "print(\"Validation Accuracy: {0:.5f}\".format(history.history['val_accuracy'][-1]))\n",
        "print(\"Test Accuracy      : {0:.5f}\".format(evaluation[1]))\n",
        "\n",
        "plot_history(hs={'Simple NN': history}, epochs=20, metric='loss')\n",
        "plot_history(hs={'Simple NN': history}, epochs=20, metric='accuracy')"
      ],
      "execution_count": 17,
      "outputs": [
        {
          "output_type": "stream",
          "text": [
            "Train Loss     : 0.82234\n",
            "Validation Loss: 0.75073\n",
            "Test Loss      : 0.79149\n",
            "---\n",
            "Train Accuracy     : 0.70020\n",
            "Validation Accuracy: 0.73217\n",
            "Test Accuracy      : 0.70800\n",
            "\n",
            "TensorFlow is already loaded. Please restart the runtime to change versions.\n"
          ],
          "name": "stdout"
        },
        {
          "output_type": "display_data",
          "data": {
            "image/png": "[encoded data removed]",
            "text/plain": [
              "<Figure size 1080x576 with 1 Axes>"
            ]
          },
          "metadata": {
            "tags": []
          }
        },
        {
          "output_type": "stream",
          "text": [
            "\n",
            "TensorFlow is already loaded. Please restart the runtime to change versions.\n"
          ],
          "name": "stdout"
        },
        {
          "output_type": "display_data",
          "data": {
            "image/png": "[encoded data removed]",
            "text/plain": [
              "<Figure size 1080x576 with 1 Axes>"
            ]
          },
          "metadata": {
            "tags": []
          }
        }
      ]
    }
  ]
}